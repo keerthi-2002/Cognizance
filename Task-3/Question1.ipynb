{
 "cells": [
  {
   "cell_type": "code",
   "execution_count": 1,
   "id": "5f3a008f",
   "metadata": {},
   "outputs": [
    {
     "name": "stdout",
     "output_type": "stream",
     "text": [
      "First number :2\n",
      "Last number : 12\n",
      "[ 2.  0.  0.  0.  0.  0.  3.  0.  0.  0.  0.  0.  4.  0.  0.  0.  0.  0.\n",
      "  5.  0.  0.  0.  0.  0.  6.  0.  0.  0.  0.  0.  7.  0.  0.  0.  0.  0.\n",
      "  8.  0.  0.  0.  0.  0.  9.  0.  0.  0.  0.  0. 10.  0.  0.  0.  0.  0.\n",
      " 11.  0.  0.  0.  0.  0. 12.]\n"
     ]
    }
   ],
   "source": [
    "import numpy as np\n",
    "x = int(input(\"First number :\"))  \n",
    "y = int(input(\"Last number : \"))  \n",
    "arr=[]\n",
    "for i in range(x,y+1):\n",
    "    arr.append(i)\n",
    "z = 5\n",
    "arr1 = np.zeros(len(arr) + (len(arr)-1)*(z))\n",
    "for a in range(len(arr)):\n",
    "    arr1[::z+1] = arr\n",
    "print(arr1)"
   ]
  },
  {
   "cell_type": "code",
   "execution_count": null,
   "id": "5176e46c",
   "metadata": {},
   "outputs": [],
   "source": []
  }
 ],
 "metadata": {
  "kernelspec": {
   "display_name": "Python 3 (ipykernel)",
   "language": "python",
   "name": "python3"
  },
  "language_info": {
   "codemirror_mode": {
    "name": "ipython",
    "version": 3
   },
   "file_extension": ".py",
   "mimetype": "text/x-python",
   "name": "python",
   "nbconvert_exporter": "python",
   "pygments_lexer": "ipython3",
   "version": "3.9.7"
  }
 },
 "nbformat": 4,
 "nbformat_minor": 5
}
