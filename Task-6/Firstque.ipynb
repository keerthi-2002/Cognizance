{
 "cells": [
  {
   "cell_type": "code",
   "execution_count": 3,
   "id": "2a2cdc16",
   "metadata": {},
   "outputs": [
    {
     "name": "stdout",
     "output_type": "stream",
     "text": [
      "1,Aaa,3.5,Maths\n",
      "2,Bbb,4.2,Physics\n",
      "3,Ccc,7.62,Chemistry\n",
      "4,Ddd,9.55,Biology\n",
      "5,Eee,4.0,Social\n",
      "6,Fff,7.6,English\n",
      "7,Ggg,3.111,Maths\n",
      "8,Hhh,9.99,Physics\n",
      "9,Iii,1.23,Civics\n"
     ]
    }
   ],
   "source": [
    "import re,csv\n",
    "data = open('onelinefile.txt')\n",
    "for i in data:\n",
    "        x = re.findall(r'[+-]?[0-9]+\\.[0-9]+', i)\n",
    "        y = re.findall(r'[a-zA-Z]+', i)\n",
    "        j = 0\n",
    "        for p in range(len(x)):\n",
    "            with open('onelinefile.csv', 'a', newline='') as file:\n",
    "                writer = csv.writer(file)\n",
    "                writer.writerow([str(p+1), y[j],x[p],y[j+1]])\n",
    "            j += 2\n",
    "\n",
    "with open('onelinefile.csv', 'r',) as file:\n",
    "    reader = csv.reader(file)\n",
    "    for row in reader:\n",
    "        print(','.join(row))"
   ]
  },
  {
   "cell_type": "code",
   "execution_count": null,
   "id": "8a9ddd3a",
   "metadata": {},
   "outputs": [],
   "source": []
  },
  {
   "cell_type": "code",
   "execution_count": null,
   "id": "54e9cc5c",
   "metadata": {},
   "outputs": [],
   "source": []
  }
 ],
 "metadata": {
  "kernelspec": {
   "display_name": "Python 3 (ipykernel)",
   "language": "python",
   "name": "python3"
  },
  "language_info": {
   "codemirror_mode": {
    "name": "ipython",
    "version": 3
   },
   "file_extension": ".py",
   "mimetype": "text/x-python",
   "name": "python",
   "nbconvert_exporter": "python",
   "pygments_lexer": "ipython3",
   "version": "3.9.7"
  }
 },
 "nbformat": 4,
 "nbformat_minor": 5
}
